{
 "cells": [
  {
   "cell_type": "code",
   "execution_count": 40,
   "id": "8f616bf8",
   "metadata": {},
   "outputs": [],
   "source": [
    "# Import the random module\n",
    "import random "
   ]
  },
  {
   "cell_type": "code",
   "execution_count": 56,
   "id": "82e75a15",
   "metadata": {},
   "outputs": [
    {
     "data": {
      "text/plain": [
       "-62"
      ]
     },
     "execution_count": 56,
     "metadata": {},
     "output_type": "execute_result"
    }
   ],
   "source": [
    "random.randint(-90,90)\n"
   ]
  },
  {
   "cell_type": "code",
   "execution_count": 39,
   "id": "0ed39027",
   "metadata": {},
   "outputs": [
    {
     "data": {
      "text/plain": [
       "0.38632006671546326"
      ]
     },
     "execution_count": 39,
     "metadata": {},
     "output_type": "execute_result"
    }
   ],
   "source": [
    "random.random()"
   ]
  },
  {
   "cell_type": "code",
   "execution_count": 61,
   "id": "c9e101dd",
   "metadata": {},
   "outputs": [
    {
     "data": {
      "text/plain": [
       "[14.59307271531469,\n",
       " -86.7908247004725,\n",
       " -4.1929902955183955,\n",
       " -5.936284992825674,\n",
       " -6.557184051224998,\n",
       " -64.36925946265312,\n",
       " -50.685562127642676,\n",
       " -36.52519740778238,\n",
       " -30.49143738456193,\n",
       " 7.509015992110807]"
      ]
     },
     "execution_count": 61,
     "metadata": {},
     "output_type": "execute_result"
    }
   ],
   "source": [
    "x=1\n",
    "latitudes=[]\n",
    "while x<11:\n",
    "    random_lat=random.randint(-90,89)+random.random()\n",
    "    latitudes.append(random_lat)\n",
    "    x+=1\n",
    "    \n",
    "latitudes"
   ]
  },
  {
   "cell_type": "code",
   "execution_count": 63,
   "id": "6f73ca62",
   "metadata": {},
   "outputs": [
    {
     "data": {
      "text/plain": [
       "-57"
      ]
     },
     "execution_count": 63,
     "metadata": {},
     "output_type": "execute_result"
    }
   ],
   "source": [
    "random.randrange(-90,90,step=3)"
   ]
  },
  {
   "cell_type": "code",
   "execution_count": 65,
   "id": "6a5f9298",
   "metadata": {},
   "outputs": [
    {
     "data": {
      "text/plain": [
       "80.18869409759452"
      ]
     },
     "execution_count": 65,
     "metadata": {},
     "output_type": "execute_result"
    }
   ],
   "source": [
    "random.uniform(-90,90)"
   ]
  },
  {
   "cell_type": "code",
   "execution_count": 66,
   "id": "807f9b81",
   "metadata": {},
   "outputs": [],
   "source": [
    "#Import the NumPy module.\n",
    "import numpy as np\n"
   ]
  },
  {
   "cell_type": "code",
   "execution_count": 67,
   "id": "c7ee681e",
   "metadata": {},
   "outputs": [
    {
     "data": {
      "text/plain": [
       "-28.804263467376487"
      ]
     },
     "execution_count": 67,
     "metadata": {},
     "output_type": "execute_result"
    }
   ],
   "source": [
    "np.random.uniform(-90.00,90.000)"
   ]
  },
  {
   "cell_type": "code",
   "execution_count": 68,
   "id": "d6490fb1",
   "metadata": {},
   "outputs": [
    {
     "data": {
      "text/plain": [
       "array([ 54.83604913, -59.217149  ,  64.14562233,  33.69915533,\n",
       "        45.87157138,   6.17291503, -69.88233944,  83.5019736 ,\n",
       "       -17.88677551, -70.22094276,  75.59001042,   3.2061674 ,\n",
       "        67.49799086,  81.47069554, -14.60968029, -27.04116701,\n",
       "       -18.26122001,  -2.03602828,  80.61534976, -16.72591249,\n",
       "        19.35867013, -52.02810121, -64.94154159, -45.18575025,\n",
       "       -35.32705978,   2.57020969, -17.38857882,  79.00025849,\n",
       "        69.94981856,  30.23841858, -47.15482832,  39.24766307,\n",
       "       -18.67691544,  -0.51899593,  48.76969113,  80.35085575,\n",
       "       -39.58376653,  46.59466406,  77.74746226,  60.65956802,\n",
       "       -11.73505433,  37.53963727, -23.35898303,  37.04621864,\n",
       "       -10.92242723,  56.80042506, -54.37862099, -70.29676838,\n",
       "        66.21769333, -27.23993276])"
      ]
     },
     "execution_count": 68,
     "metadata": {},
     "output_type": "execute_result"
    }
   ],
   "source": [
    "np.random.uniform(-90.000, 90.000, size=50)"
   ]
  },
  {
   "cell_type": "code",
   "execution_count": 69,
   "id": "dd982ac4",
   "metadata": {},
   "outputs": [],
   "source": [
    "#Import timeit.\n",
    "import timeit"
   ]
  },
  {
   "cell_type": "code",
   "execution_count": 70,
   "id": "f07133fd",
   "metadata": {},
   "outputs": [
    {
     "name": "stdout",
     "output_type": "stream",
     "text": [
      "13.8 µs ± 644 ns per loop (mean ± std. dev. of 7 runs, 100000 loops each)\n"
     ]
    }
   ],
   "source": [
    "%timeit np.random.uniform(-90.000,90.000,size=1500)"
   ]
  },
  {
   "cell_type": "code",
   "execution_count": 71,
   "id": "9193d093",
   "metadata": {},
   "outputs": [
    {
     "name": "stdout",
     "output_type": "stream",
     "text": [
      "1.17 µs ± 60.1 ns per loop (mean ± std. dev. of 7 runs, 1000000 loops each)\n"
     ]
    }
   ],
   "source": [
    "def latitudes (size):\n",
    "    latitudes=[]\n",
    "    x=0\n",
    "    while x<(size):\n",
    "        random_lat=random.randint(-90,90)+random.random()\n",
    "        latitudes.append(random_lat)\n",
    "        x+=1\n",
    "        return latitudes\n",
    "#call the function with 1500.\n",
    "%timeit latitudes(1500)"
   ]
  },
  {
   "cell_type": "code",
   "execution_count": 74,
   "id": "a144a8ac",
   "metadata": {},
   "outputs": [],
   "source": []
  },
  {
   "cell_type": "code",
   "execution_count": 75,
   "id": "c6e74a90",
   "metadata": {},
   "outputs": [
    {
     "data": {
      "text/plain": [
       "<zip at 0x20085d3e648>"
      ]
     },
     "execution_count": 75,
     "metadata": {},
     "output_type": "execute_result"
    }
   ],
   "source": []
  },
  {
   "cell_type": "code",
   "execution_count": null,
   "id": "7352d935",
   "metadata": {},
   "outputs": [],
   "source": []
  },
  {
   "cell_type": "code",
   "execution_count": null,
   "id": "6459cb33",
   "metadata": {},
   "outputs": [],
   "source": []
  },
  {
   "cell_type": "code",
   "execution_count": null,
   "id": "2a057d49",
   "metadata": {},
   "outputs": [],
   "source": []
  },
  {
   "cell_type": "code",
   "execution_count": null,
   "id": "0d5a5929",
   "metadata": {},
   "outputs": [],
   "source": []
  }
 ],
 "metadata": {
  "kernelspec": {
   "display_name": "PythonData",
   "language": "python",
   "name": "pythondata"
  },
  "language_info": {
   "codemirror_mode": {
    "name": "ipython",
    "version": 3
   },
   "file_extension": ".py",
   "mimetype": "text/x-python",
   "name": "python",
   "nbconvert_exporter": "python",
   "pygments_lexer": "ipython3",
   "version": "3.7.13"
  }
 },
 "nbformat": 4,
 "nbformat_minor": 5
}
